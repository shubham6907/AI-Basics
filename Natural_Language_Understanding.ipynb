{
  "nbformat": 4,
  "nbformat_minor": 0,
  "metadata": {
    "colab": {
      "provenance": [],
      "authorship_tag": "ABX9TyMsQYgXhwAyUuvhJVEbPKve",
      "include_colab_link": true
    },
    "kernelspec": {
      "name": "python3",
      "display_name": "Python 3"
    },
    "language_info": {
      "name": "python"
    }
  },
  "cells": [
    {
      "cell_type": "markdown",
      "metadata": {
        "id": "view-in-github",
        "colab_type": "text"
      },
      "source": [
        "<a href=\"https://colab.research.google.com/github/shubham6907/AI-Basics/blob/main/Natural_Language_Understanding.ipynb\" target=\"_parent\"><img src=\"https://colab.research.google.com/assets/colab-badge.svg\" alt=\"Open In Colab\"/></a>"
      ]
    },
    {
      "cell_type": "markdown",
      "source": [
        "# **What Is Natural Language Understanding (NLU)?**\n",
        "Natural Language Understanding (NLU) is the ability of a computer to understand human language. You can use it for many applications, such as chatbots, voice assistants, and automated translation services.\n",
        "\n",
        "The most basic form of NLU is parsing, which takes text written in natural language and converts it into a structured format that computers can understand.\n",
        "\n",
        "For example, the words \"hello world\" would be converted into their respective parts of speech (nouns and verbs), while \"I am hungry\" would be split into two sentences: \"I am\" and \"hungry.\"\n",
        "\n",
        "Parsing is only one part of NLU; other tasks include sentiment analysis, entity recognition, and semantic role labeling."
      ],
      "metadata": {
        "id": "KgWRnZ0pbjgO"
      }
    },
    {
      "cell_type": "markdown",
      "source": [
        "## **NLU vs. NLP vs. NLG**\n",
        "Natural language understanding is taking in an input text string and analyzing what it means. It can happen on a small scale.\n",
        "\n",
        "For example, when a human reads a user's question on Twitter and replies with an answer, or on a large scale, like when Google parses millions of documents to figure out what they're about.\n",
        "\n",
        "Natural language processing is the process of turning human-readable text into computer-readable data. It's used in everything from online search engines to chatbots that can understand our questions and give us answers based on what we've typed.\n",
        "\n",
        "Natural language generation is the process of turning computer-readable data into human-readable text. For example, if you wanted to build a bot that could talk back to you as though it were another person, you might use NLG software to make sure it sounded like someone else was typing for them (rather than just spitting out random words)."
      ],
      "metadata": {
        "id": "vbS3Prmob1KJ"
      }
    },
    {
      "cell_type": "markdown",
      "source": [
        "## **How Does Natural Language Understanding Work?**\n",
        "Natural language understanding is taking a natural language input, like a sentence or paragraph, and processing it to produce an output. It's often used in consumer-facing applications like web search engines and chatbots, where users interact with the application using plain language.\n",
        "\n",
        "You can break down the process into three stages:\n",
        "\n",
        "Tokenization: The first stage of NLU involves splitting a given input into individual words or tokens. It includes punctuation, other symbols, and words from all languages.\n",
        "Lexical Analysis: Next, the tokens are placed into a dictionary that includes their part of speech (for example, whether they're nouns or verbs). It also includes identifying phrases that should be placed in a separate database for later use.\n",
        "Syntactic Analysis: The tokens are analyzed for their grammatical structure. It includes identifying each word's roles and whether there's any ambiguity between multiple interpretations of those roles."
      ],
      "metadata": {
        "id": "8VtEzmEtb7j6"
      }
    },
    {
      "cell_type": "markdown",
      "source": [
        "## **Natural Language Understanding Applications**\n",
        "**IVR and Message Routing**\n",
        "Answering customer calls and directing them to the correct department or person is an everyday use case for NLUs. Implementing an IVR system allows businesses to handle customer queries 24/7 without hiring additional staff or paying for overtime hours.\n",
        "\n",
        "**Data Capture**\n",
        "A data capture application will enable users to enter information into fields on a web form using natural language pattern matching rather than typing out every area manually with their keyboard. It makes it much quicker for users since they don't need to remember what each field means or how they should fill it out correctly with their keyboard (e.g., date format).\n",
        "\n",
        "**Customer Support**\n",
        "Customer support agents can leverage NLU technology to gather information from customers while they're on the phone without having to type out each question individually.\n",
        "Agents can also help customers with more complex issues by using NLU technology combined with natural language generation tools to create personalized responses based on specific information about each customer's situation.\n",
        "\n",
        "**Chatbots**\n",
        "A chatbot is a program that uses artificial intelligence to simulate conversations with human users. A chatbot may respond to each user’s input or have a set of responses for common questions or phrases.\n",
        "The goal of a chatbot is to minimize the amount of time people need to spend interacting with computers and maximize the amount of time they spend doing other things.\n",
        "\n",
        "**Virtual assistants**\n",
        "Virtual assistants are computer programs designed to help complete basic tasks for you, such as scheduling appointments, creating reminders, and sending emails.\n",
        "They can integrate with other apps on your phone or computer so that you don’t have to switch between programs when you want something done quickly, like sending someone an email or taking care of some errands online before heading out on vacation next week!"
      ],
      "metadata": {
        "id": "Q-RFKE8xcb6V"
      }
    }
  ]
}