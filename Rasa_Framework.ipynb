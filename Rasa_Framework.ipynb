{
  "nbformat": 4,
  "nbformat_minor": 0,
  "metadata": {
    "colab": {
      "provenance": [],
      "authorship_tag": "ABX9TyMWQBExj47WW/sVWIKWjEjL",
      "include_colab_link": true
    },
    "kernelspec": {
      "name": "python3",
      "display_name": "Python 3"
    },
    "language_info": {
      "name": "python"
    }
  },
  "cells": [
    {
      "cell_type": "markdown",
      "metadata": {
        "id": "view-in-github",
        "colab_type": "text"
      },
      "source": [
        "<a href=\"https://colab.research.google.com/github/shubham6907/AI-Basics/blob/main/Rasa_Framework.ipynb\" target=\"_parent\"><img src=\"https://colab.research.google.com/assets/colab-badge.svg\" alt=\"Open In Colab\"/></a>"
      ]
    },
    {
      "cell_type": "markdown",
      "source": [
        "# **Rasa Framework**\n",
        "RASA is an open-source chatbot framework based on machine learning. With the help of it, we can easily create highly accurate chatbots and can easily integrate these chatbots with our website, telegram, Facebook, Whatsapp, etc.\n",
        "\n",
        "The Rasa framework is an open-source tool that makes it easy to develop chatbots with advanced natural language processing (NLP) and natural language understanding (NLU) capabilities.\n",
        "\n",
        "Rasa is built on the concept of \"conversational AI,\" which is the idea that chatbots should be able to hold natural, human-like conversations with users. This is a significant departure from the traditional model of chatbots, which are often limited to simple responses based on keywords and pre-defined rules. With Rasa, developers can create chatbots that can understand the full context of a conversation and provide appropriate responses in real-time.\n",
        "\n",
        "One of the key features of the Rasa framework is its modular design. The framework consists of two main components: Rasa NLU and Rasa Core. Rasa NLU is responsible for natural language understanding, which means it can parse and interpret user inputs to identify the intent behind them. Rasa Core, on the other hand, handles the conversation flow and logic, allowing the chatbot to hold a natural conversation with the user.\n",
        "\n",
        "Using these two components together, developers can create sophisticated chatbots that can understand and respond to a wide range of user inputs. The Rasa framework also includes a number of pre-built components and tools that make it easy to customize and fine-tune your chatbot's behavior. For example, you can use the Rasa training data API to quickly and easily train your chatbot on a large dataset of conversational examples.\n",
        "\n",
        "Another advantage of the Rasa framework is its flexibility. It can be used to develop chatbots for a wide range of applications and platforms, including messaging apps, web applications, and voice assistants like Amazon Alexa and Google Assistant. This means you can build a chatbot that can interact with users on their preferred platform, improving the user experience and making it easier for people to get the information they need."
      ],
      "metadata": {
        "id": "0nPzhyRMhcBC"
      }
    },
    {
      "cell_type": "markdown",
      "source": [
        "## **What is Rasa NLU?**\n",
        "RASA NLU is the interpreter which processes the user input and identifies the intents and extracts the entities from it.\n",
        "\n",
        "AI assistants have to fulfil two tasks, first assistants needs to understand the input message i.e. Intent classification and entity extraction, then by giving correct responses based on the intent and entity.\n",
        "\n",
        "The Rasa stack tackles these tasks with the natural language understanding component Rasa NLU and the dialogue management component Rasa Core. What makes NLP for contextual AI assistants. Rasa NLU provides this full customisability by processing user messages in a so called pipeline.\n",
        "\n",
        "A pipeline defines different components which process a user message sequentially and ultimately lead to the classification of user messages into intents and the extraction of entities."
      ],
      "metadata": {
        "id": "7zDVu_eJh3R0"
      }
    },
    {
      "cell_type": "markdown",
      "source": [
        "## **RASA CORE**\n",
        "\n",
        "RASA CORE receives the output from the RASA NLU (which a dictionary specifies the intents entities and other information) and based on these details, the RASA Core part selects the appropriate reply and sends it back to the user as the bot reply."
      ],
      "metadata": {
        "id": "CuT2gikbl1g8"
      }
    },
    {
      "cell_type": "markdown",
      "source": [
        "## **Steps for Creating a Rasa Bot**\n",
        "The steps for creating a chatbot using Rasa would typically involve the following:\n",
        "\n",
        "1. **Collect and annotate training data:** This involves creating a set of example conversations that the chatbot will use to learn from. Each conversation should include examples of the different intents and entities that the chatbot should be able to recognize.\n",
        "\n",
        "2. **Train a natural language understanding model:** The next step is to use Rasa NLU to train a model on the annotated training data. This model will be used to identify the intent and entities present in user input.\n",
        "\n",
        "3. **Define the conversation flow:** Using Rasa Core, the developer can then define the conversation flow for the chatbot. This involves creating a set of rules that specify how the chatbot should respond to different types of user input.\n",
        "\n",
        "4. **Train a dialogue management model:** Once the conversation flow has been defined, Rasa Core can be used to train a model that can make predictions about how the chatbot should respond to user input in real-time.\n",
        "\n",
        "5. **Test and improve the chatbot:** Finally, the chatbot can be tested and fine-tuned to improve its performance. This may involve gathering more training data and retraining the models, as well as making adjustments to the conversation flow to improve the chatbot's ability to handle different types of user input."
      ],
      "metadata": {
        "id": "X2ES-8EFitXe"
      }
    },
    {
      "cell_type": "markdown",
      "source": [
        "## **Advantages of Rasa**\n",
        "\n",
        "1. its core component is open-source and free\n",
        "2. it allows to incorporate many external state-of-the-art NLP models\n",
        "3. it is highly customizable and flexible (more on that later)\n",
        "4. it uses Python which is our language of choice\n",
        "5. It has an easy-to-use command-line interface for common tasks such as training, testing or running models\n",
        "6. it has great documentation, written and video tutorials (check out “Conversational AI with Rasa” series on Youtube)."
      ],
      "metadata": {
        "id": "wYKdEAOnjPnL"
      }
    },
    {
      "cell_type": "markdown",
      "source": [
        "\n",
        "\n",
        "## **Some simple concepts that we should know while creating a chatbot.**\n",
        "\n",
        "**Query**\n",
        "A query is the user message for the chatbot in order to get details of something.\n",
        "\n",
        "**Response/Action**\n",
        "Action is the response from a chatbot based on the query.\n",
        "\n",
        "**Intents**\n",
        "Intents can be described as the aim or intention of the user input.\n",
        "\n",
        "**Entities**\n",
        "Entities can be described as useful information that can be extracted from the user input ( The nouns in the dialogue).\n",
        "\n"
      ],
      "metadata": {
        "id": "G2vLeTsElGBw"
      }
    },
    {
      "cell_type": "markdown",
      "source": [
        "## **Architecture of RASA**\n",
        "\n",
        "In the architecture, we can mainly discuss 4 things Interpreter, Tracker, Policy, Action.\n",
        "\n",
        "Whenever a person types and send a message to the RASA chatbot it will be received and passed to the Interpreter. It is this interpreter which identifies the intent of the message and extracts the entities out of it.\n",
        "\n",
        "There is a Tracker present, which always tracks the state of the conversation between the user and the bot. Policy in the architecture tracks the current conversation state and decides which is the appropriate bot action. The selected action is also then tracked by the tracker and then sent to the user as the reply."
      ],
      "metadata": {
        "id": "fvXTx4zumfGC"
      }
    },
    {
      "cell_type": "markdown",
      "source": [
        "## **File Structure**\n",
        "\n",
        "The important files are\n",
        "\n",
        "**nlu.yml**\n",
        "\n",
        "This file contains the possible messages from the user and the corresponding intent. This file is used for creating the intent classification model. Whenever the user inputs a message, the classification model automatically classifies the intent of the message.\n",
        "\n",
        "version: \"2.0\"\n",
        "nlu:\n",
        "- intent: greeting\n",
        "examples: |\n",
        "- hey\n",
        "- hello there\n",
        "- good morning\n",
        "- good evening\n",
        "- intent: goodbye\n",
        "examples: |\n",
        "- good afternoon\n",
        "- cu\n",
        "- goodbye\n",
        "- see you later\n",
        "- intent: deny\n",
        "examples: |\n",
        "- no\n",
        "- never\n",
        "- I don't think so\n",
        "\n",
        "**stories.yml**\n",
        "\n",
        "It contains different possible sample interactions between the user and the chatbot. With this sample, the bot will get an idea about what would be the possible reply for user input.\n",
        "\n",
        "version: \"2.0\"\n",
        "stories:\n",
        "- story: happy\n",
        "  steps:\n",
        "  - intent: greeting\n",
        "  - action: utter_greeting\n",
        "  - intent: mood_great\n",
        "  - action: utter_happy\n",
        "- story: sad path\n",
        "  steps:\n",
        "  - intent: greeting\n",
        "  - action: utter_greeting\n",
        "  - intent: mood_unhappy\n",
        "  - action: utter_cheer_up\n",
        "  - intent: goodbye\n",
        "  - action: utter_goodbye\n",
        "\n",
        "**domain.yml**\n",
        "\n",
        "This file contains different bot responses, lists all the intents and entities used while creating the nlu.yml file.\n",
        "\n",
        "version: \"2.0\"\n",
        "intents:\n",
        "  - greetings\n",
        "  - goodbye\n",
        "responses:\n",
        " utter_greeting:\n",
        "  - text: \"Hii How are you?\"\n",
        "  utter_goodbye:\n",
        "  - text: \"Bye\"\n",
        "\n",
        "**actions.py**\n",
        "\n",
        "This is the python file to run the custom actions. This file can be used for an API call or database querying\n",
        "\n",
        "from typing import Any, Text, Dict, List\n",
        "from rasa_sdk import Action, Tracker\n",
        "from rasa_sdk.executor import CollectingDispatcher\n",
        "class ActionHelloWorld(Action):\n",
        "    def name(self) -> Text:\n",
        "        return \"action_hello\"\n",
        "    def run(self, dispatcher: CollectingDispatcher,\n",
        "            tracker: Tracker,\n",
        "            domain: Dict[Text, Any]) -> List[Dict[Text, Any]]:\n",
        "        dispatcher.utter_message(text=\"Hello\")\n",
        "        return []\n",
        "        \n",
        "When the action is action_hello the above code will execute and dispatches the text “Hello” as a reply."
      ],
      "metadata": {
        "id": "qkTTKgSPm-iB"
      }
    }
  ]
}