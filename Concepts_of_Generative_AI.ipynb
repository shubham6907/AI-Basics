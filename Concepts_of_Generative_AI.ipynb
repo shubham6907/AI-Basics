{
  "nbformat": 4,
  "nbformat_minor": 0,
  "metadata": {
    "colab": {
      "provenance": [],
      "authorship_tag": "ABX9TyOsjFVmhB+CzQriFEWLbd1q",
      "include_colab_link": true
    },
    "kernelspec": {
      "name": "python3",
      "display_name": "Python 3"
    },
    "language_info": {
      "name": "python"
    }
  },
  "cells": [
    {
      "cell_type": "markdown",
      "metadata": {
        "id": "view-in-github",
        "colab_type": "text"
      },
      "source": [
        "<a href=\"https://colab.research.google.com/github/shubham6907/AI-Basics/blob/main/Concepts_of_Generative_AI.ipynb\" target=\"_parent\"><img src=\"https://colab.research.google.com/assets/colab-badge.svg\" alt=\"Open In Colab\"/></a>"
      ]
    },
    {
      "cell_type": "markdown",
      "source": [
        "# **Concepts of Generative AI**\n",
        "Generative AI is a type of artificial intelligence technology that can produce various types of content, including text, imagery, audio and synthetic data. The recent buzz around generative AI has been driven by the simplicity of new user interfaces for creating high-quality text, graphics and videos in a matter of seconds."
      ],
      "metadata": {
        "id": "9SxulzA-x0eu"
      }
    },
    {
      "cell_type": "markdown",
      "source": [
        "### **How does generative AI work?**\n",
        "Generative AI starts with a prompt that could be in the form of a text, an image, a video, a design, musical notes, or any input that the AI system can process. Various AI algorithms then return new content in response to the prompt. Content can include essays, solutions to problems, or realistic fakes created from pictures or audio of a person.\n",
        "\n",
        "Generative AI can provide better user experiences that let you describe a request in plain language. After an initial response, you can also customize the results with feedback about the style, tone and other elements you want the generated content to reflect."
      ],
      "metadata": {
        "id": "7L3u4MIc_nOf"
      }
    },
    {
      "cell_type": "markdown",
      "source": [
        "### **Generative AI models**\n",
        "Generative AI models combine various AI algorithms to represent and process content. For example, to generate text, various natural language processing techniques transform raw characters (e.g., letters, punctuation and words) into sentences, parts of speech, entities and actions, which are represented as vectors using multiple encoding techniques. Similarly, images are transformed into various visual elements, also expressed as vectors. One caution is that these techniques can also encode the biases, racism, deception and puffery contained in the training data.\n",
        "\n",
        "Particular neural network is applied to generate new content in response to a query or prompt. Techniques such as GANs and variational autoencoders (VAEs) -- neural networks with a decoder and encoder -- are suitable for generating realistic human faces, synthetic data for AI training or even facsimiles of particular humans.\n",
        "\n",
        "Recent progress in transformers such as Google's Bidirectional Encoder Representations from Transformers (BERT), OpenAI's GPT and Google AlphaFold have also resulted in neural networks that can not only encode language, images and proteins but also generate new content."
      ],
      "metadata": {
        "id": "yqXlaDZM_wUD"
      }
    },
    {
      "cell_type": "markdown",
      "source": [
        "### **What are Dall-E, ChatGPT and Bard?**\n",
        "\n",
        "ChatGPT, Dall-E and Bard are popular generative AI interfaces.\n",
        "\n",
        "**Dall-E.** Trained on a large data set of images and their associated text descriptions, Dall-E is an example of a multimodal AI application that identifies connections across multiple media, such as vision, text and audio. In this case, it connects the meaning of words to visual elements. It was built using OpenAI's GPT implementation in 2021. Dall-E 2, a second, more capable version, was released in 2022. It enables users to generate imagery in multiple styles driven by user prompts.\n",
        "\n",
        "**ChatGPT.** The AI-powered chatbot that took the world by storm in November 2022 was built on OpenAI's GPT-3.5 implementation. OpenAI has provided a way to interact and fine-tune text responses via a chat interface with interactive feedback. Earlier versions of GPT were only accessible via an API. GPT-4 was released March 14, 2023. ChatGPT incorporates the history of its conversation with a user into its results, simulating a real conversation. After the incredible popularity of the new GPT interface, Microsoft announced a significant new investment into OpenAI and integrated a version of GPT into its Bing search engine.\n",
        "\n",
        "**Bard.** Google was another early leader in pioneering transformer AI techniques for processing language, proteins and other types of content. It open sourced some of these models for researchers. However, it never released a public interface for these models. Microsoft's decision to implement GPT into Bing drove Google to rush to market a public-facing chatbot, Google Bard, built on a lightweight version of its LaMDA family of large language models. Google suffered a significant loss in stock price following Bard's rushed debut after the language model incorrectly said the Webb telescope was the first to discover a planet in a foreign solar system. Meanwhile, Microsoft and ChatGPT implementations also lost face in their early outings due to inaccurate results and erratic behavior. Google has since unveiled a new version of Bard built on its most advanced LLM, PaLM 2, which allows Bard to be more efficient and visual in its response to user queries."
      ],
      "metadata": {
        "id": "jHSRa6mB_3UE"
      }
    },
    {
      "cell_type": "markdown",
      "source": [
        "### **What are use cases for generative AI?**\n",
        "\n",
        "Generative AI can be applied in various use cases to generate virtually any kind of content. The technology is becoming more accessible to users of all kinds thanks to cutting-edge breakthroughs like GPT that can be tuned for different applications. Some of the use cases for generative AI include the following:\n",
        "*   Implementing chatbots for customer service and technical support.\n",
        "*   Deploying deepfakes for mimicking people or even specific individuals.\n",
        "*   Improving dubbing for movies and educational content in different languages.\n",
        "*   Writing email responses, dating profiles, resumes and term papers.\n",
        "*   Creating photorealistic art in a particular style.\n",
        "*   Improving product demonstration videos.\n",
        "*   Suggesting new drug compounds to test.\n",
        "*   Designing physical products and buildings.\n",
        "*   Optimizing new chip designs.\n",
        "*   Writing music in a specific style or tone."
      ],
      "metadata": {
        "id": "dMls80MmA_5c"
      }
    },
    {
      "cell_type": "markdown",
      "source": [
        "### **What are the benefits of generative AI?**\n",
        "\n",
        "Generative AI can be applied extensively across many areas of the business. It can make it easier to interpret and understand existing content and automatically create new content. Developers are exploring ways that generative AI can improve existing workflows, with an eye to adapting workflows entirely to take advantage of the technology. Some of the potential benefits of implementing generative AI include the following:\n",
        "*   Automating the manual process of writing content.\n",
        "*   Reducing the effort of responding to emails.\n",
        "*   Improving the response to specific technical queries.\n",
        "*   Creating realistic representations of people.\n",
        "*   Summarizing complex information into a coherent narrative.\n",
        "*   Simplifying the process of creating content in a particular style."
      ],
      "metadata": {
        "id": "P7po47YwCXY8"
      }
    },
    {
      "cell_type": "markdown",
      "source": [
        "### **What are the limitations of generative AI?**\n",
        "\n",
        "Early implementations of generative AI vividly illustrate its many limitations. Some of the challenges generative AI presents result from the specific approaches used to implement particular use cases. For example, a summary of a complex topic is easier to read than an explanation that includes various sources supporting key points. The readability of the summary, however, comes at the expense of a user being able to vet where the information comes from.\n",
        "\n",
        "Here are some of the limitations to consider when implementing or using a generative AI app:\n",
        "*   It does not always identify the source of content.\n",
        "*   It can be challenging to assess the bias of original sources.\n",
        "*   Realistic-sounding content makes it harder to identify inaccurate information.\n",
        "*   It can be difficult to understand how to tune for new circumstances.\n",
        "*   Results can gloss over bias, prejudice and hatred."
      ],
      "metadata": {
        "id": "Y4pW88rUDCGI"
      }
    },
    {
      "cell_type": "markdown",
      "source": [
        "### **What are some examples of generative AI tools?**\n",
        "\n",
        "Generative AI tools exist for various modalities, such as text, imagery, music, code and voices. Some popular AI content generators to explore include the following:\n",
        "*   Text generation tools include GPT, Jasper, AI-Writer and Lex.\n",
        "*   Image generation tools include Dall-E 2, Midjourney and Stable Diffusion.\n",
        "*   Music generation tools include Amper, Dadabots and MuseNet.\n",
        "*   Code generation tools include CodeStarter, Codex, GitHub Copilot and Tabnine.\n",
        "*   Voice synthesis tools include Descript, Listnr and Podcast.ai.\n",
        "*   AI chip design tool companies include Synopsys, Cadence, Google and Nvidia."
      ],
      "metadata": {
        "id": "la_n2-ocD8_K"
      }
    },
    {
      "cell_type": "markdown",
      "source": [
        "### **Best practices for using generative AI**\n",
        "\n",
        "The best practices for using generative AI will vary depending on the modalities, workflow and desired goals. That said, it is important to consider essential factors such as accuracy, transparency and ease of use in working with generative AI. The following practices help achieve these factors:\n",
        "*   Clearly label all generative AI content for users and consumers.\n",
        "*   Vet the accuracy of generated content using primary sources where applicable.\n",
        "*   Consider how bias might get woven into generated AI results.\n",
        "*   Double-check the quality of AI-generated code and content using other tools.\n",
        "*   Learn the strengths and limitations of each generative AI tool.\n",
        "*   Familiarize yourself with common failure modes in results and work around these."
      ],
      "metadata": {
        "id": "ZuBoDJsOGM0r"
      }
    },
    {
      "cell_type": "markdown",
      "source": [
        "### **How do you build a generative AI model?**\n",
        "\n",
        " generative AI model starts by efficiently encoding a representation of what you want to generate. For example, a generative AI model for text might begin by finding a way to represent the words as vectors that characterize the similarity between words often used in the same sentence or that mean similar things.\n",
        "\n",
        "Recent progress in LLM research has helped the industry implement the same process to represent patterns found in images, sounds, proteins, DNA, drugs and 3D designs. This generative AI model provides an efficient way of representing the desired type of content and efficiently iterating on useful variations."
      ],
      "metadata": {
        "id": "21dFSho6HiBW"
      }
    },
    {
      "cell_type": "markdown",
      "source": [
        "### **How do you train a generative AI model?**\n",
        "\n",
        "The generative AI model needs to be trained for a particular use case. The recent progress in LLMs provides an ideal starting point for customizing applications for different use cases. For example, the popular GPT model developed by OpenAI has been used to write text, generate code and create imagery based on written descriptions.\n",
        "\n",
        "Training involves tuning the model's parameters for different use cases and then fine-tuning results on a given set of training data. For example, a call center might train a chatbot against the kinds of questions service agents get from various customer types and the responses that service agents give in return. An image-generating app, in distinction to text, might start with labels that describe content and style of images to train the model to generate new images."
      ],
      "metadata": {
        "id": "iP067J5tHmyC"
      }
    },
    {
      "cell_type": "markdown",
      "source": [
        "### **What are some generative models for natural language processing?**\n",
        "\n",
        "Some generative models for natural language processing include the following:\n",
        "*   Carnegie Mellon University's XLNet\n",
        "*   OpenAI's GPT (Generative Pre-trained Transformer)\n",
        "*   Google's ALBERT (\"A Lite\" BERT)\n",
        "*   Google BERT\n",
        "*   Google LaMDA"
      ],
      "metadata": {
        "id": "TC8tRfUDH-Gr"
      }
    },
    {
      "cell_type": "markdown",
      "source": [
        "# **Generative AI vs. AI**\n",
        "\n",
        "Generative AI focuses on creating new and original content, chat responses, designs, synthetic data or even deepfakes. It's particularly valuable in creative fields and for novel problem-solving, as it can autonomously generate many types of new outputs.\n",
        "\n",
        "Generative AI, as noted above, relies on neural network techniques such as transformers, GANs and VAEs. Other kinds of AI, in distinction, use techniques including convolutional neural networks, recurrent neural networks and reinforcement learning.\n",
        "\n",
        "Generative AI often starts with a prompt that lets a user or data source submit a starting query or data set to guide content generation. This can be an iterative process to explore content variations. Traditional AI algorithms, on the other hand, often follow a predefined set of rules to process data and produce a result.\n",
        "\n",
        "Both approaches have their strengths and weaknesses depending on the problem to be solved, with generative AI being well-suited for tasks involving NLP and calling for the creation of new content, and traditional algorithms more effective for tasks involving rule-based processing and predetermined outcomes."
      ],
      "metadata": {
        "id": "Q54fgh_yEitt"
      }
    },
    {
      "cell_type": "markdown",
      "source": [
        "### **Generative AI vs. predictive AI vs. conversational AI**\n",
        "Predictive AI, in distinction to generative AI, uses patterns in historical data to forecast outcomes, classify events and actionable insights. Organizations use predictive AI to sharpen decision-making and develop data-driven strategies.\n",
        "\n",
        "Conversational AI helps AI systems like virtual assistants, chatbots and customer service apps interact and engage with humans in a natural way. It uses techniques from NLP and machine learning to understand language and provide human-like text or speech responses."
      ],
      "metadata": {
        "id": "lQBDR5HgFqW6"
      }
    }
  ]
}